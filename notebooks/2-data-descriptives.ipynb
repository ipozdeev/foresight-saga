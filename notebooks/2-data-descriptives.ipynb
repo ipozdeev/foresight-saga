{
 "cells": [
  {
   "cell_type": "code",
   "execution_count": 1,
   "metadata": {},
   "outputs": [],
   "source": [
    "import sys; sys.path.append(\"..\")\n",
    "\n",
    "import pandas as pd\n",
    "import numpy as np\n",
    "import matplotlib.pyplot as plt\n",
    "import seaborn as sns\n",
    "import ipywidgets as widgets\n",
    "from ipywidgets import interact\n",
    "\n",
    "from config import *\n",
    "\n",
    "sns.set_style(\"whitegrid\")"
   ]
  },
  {
   "cell_type": "code",
   "execution_count": 2,
   "metadata": {},
   "outputs": [],
   "source": [
    "# settings\n",
    "# skip obs with n_days till next announcement being more than this\n",
    "MAX_DAYS_TO_ANNOUNCEMENT = 10"
   ]
  },
  {
   "cell_type": "markdown",
   "metadata": {},
   "source": [
    "# data\n",
    "For each day and currency, we observe the the FX spot return (vs USD), the number of days until the next 'own' and FOMC policy meeting, whether they are scheduled or not, and the direction of the rate change that they culminated in. For instance, on 2001-01-17 there were 6 days until the next policy meeting at the Bank of Canada, and 14 days until the next FOMC meeting, both scheduled and to result in a rate cut."
   ]
  },
  {
   "cell_type": "code",
   "execution_count": 3,
   "metadata": {},
   "outputs": [
    {
     "data": {
      "text/html": [
       "<style type=\"text/css\">\n",
       "</style>\n",
       "<table id=\"T_993bc\">\n",
       "  <thead>\n",
       "    <tr>\n",
       "      <th class=\"blank level0\" >&nbsp;</th>\n",
       "      <th id=\"T_993bc_level0_col0\" class=\"col_heading level0 col0\" >currency</th>\n",
       "      <th id=\"T_993bc_level0_col1\" class=\"col_heading level0 col1\" >date</th>\n",
       "      <th id=\"T_993bc_level0_col2\" class=\"col_heading level0 col2\" >date_announcement_own</th>\n",
       "      <th id=\"T_993bc_level0_col3\" class=\"col_heading level0 col3\" >n_days_own</th>\n",
       "      <th id=\"T_993bc_level0_col4\" class=\"col_heading level0 col4\" >fx_return</th>\n",
       "      <th id=\"T_993bc_level0_col5\" class=\"col_heading level0 col5\" >direction_own</th>\n",
       "      <th id=\"T_993bc_level0_col6\" class=\"col_heading level0 col6\" >is_scheduled_own</th>\n",
       "      <th id=\"T_993bc_level0_col7\" class=\"col_heading level0 col7\" >date_announcement_fomc</th>\n",
       "      <th id=\"T_993bc_level0_col8\" class=\"col_heading level0 col8\" >n_days_fomc</th>\n",
       "      <th id=\"T_993bc_level0_col9\" class=\"col_heading level0 col9\" >direction_fomc</th>\n",
       "      <th id=\"T_993bc_level0_col10\" class=\"col_heading level0 col10\" >is_scheduled_fomc</th>\n",
       "    </tr>\n",
       "  </thead>\n",
       "  <tbody>\n",
       "    <tr>\n",
       "      <th id=\"T_993bc_level0_row0\" class=\"row_heading level0 row0\" >0</th>\n",
       "      <td id=\"T_993bc_row0_col0\" class=\"data row0 col0\" >cad</td>\n",
       "      <td id=\"T_993bc_row0_col1\" class=\"data row0 col1\" >2000-01-03 16:00:00-05:00</td>\n",
       "      <td id=\"T_993bc_row0_col2\" class=\"data row0 col2\" >2000-12-05 10:00:00-05:00</td>\n",
       "      <td id=\"T_993bc_row0_col3\" class=\"data row0 col3\" >-241</td>\n",
       "      <td id=\"T_993bc_row0_col4\" class=\"data row0 col4\" >nan</td>\n",
       "      <td id=\"T_993bc_row0_col5\" class=\"data row0 col5\" >no_change</td>\n",
       "      <td id=\"T_993bc_row0_col6\" class=\"data row0 col6\" >True</td>\n",
       "      <td id=\"T_993bc_row0_col7\" class=\"data row0 col7\" >2000-02-02 14:00:00-05:00</td>\n",
       "      <td id=\"T_993bc_row0_col8\" class=\"data row0 col8\" >-22</td>\n",
       "      <td id=\"T_993bc_row0_col9\" class=\"data row0 col9\" >hike</td>\n",
       "      <td id=\"T_993bc_row0_col10\" class=\"data row0 col10\" >True</td>\n",
       "    </tr>\n",
       "  </tbody>\n",
       "</table>\n"
      ],
      "text/plain": [
       "<pandas.io.formats.style.Styler at 0x7f66c025f550>"
      ]
     },
     "execution_count": 3,
     "metadata": {},
     "output_type": "execute_result"
    }
   ],
   "source": [
    "data = pd.read_csv(\"../data/processed/data.csv\")\n",
    "\n",
    "data.head(1).style.format()"
   ]
  },
  {
   "cell_type": "markdown",
   "metadata": {},
   "source": [
    "# analysis"
   ]
  },
  {
   "cell_type": "markdown",
   "metadata": {},
   "source": [
    "Let's take a look at the historical dynamics of spot exchange rates ahead of monetary policy meetings, irrespective of the policy decision:"
   ]
  },
  {
   "cell_type": "code",
   "execution_count": 22,
   "metadata": {},
   "outputs": [
    {
     "data": {
      "application/vnd.jupyter.widget-view+json": {
       "model_id": "0aa6cf6c2e58446cb7208494fa74c9ca",
       "version_major": 2,
       "version_minor": 0
      },
      "text/plain": [
       "interactive(children=(Dropdown(description='which_bank', options=('own', 'fomc'), value='own'), IntRangeSlider…"
      ]
     },
     "metadata": {},
     "output_type": "display_data"
    }
   ],
   "source": [
    "@interact\n",
    "def plot_pre_announcement_spot_returns(\n",
    "        which_bank=[\"own\", \"fomc\"],\n",
    "        years=widgets.IntRangeSlider(\n",
    "            value=[2000, 2023],\n",
    "            min=2000,\n",
    "            max=2023,\n",
    "            step=1,\n",
    "            description='years',\n",
    "            continuous_update=False\n",
    "        )\n",
    "    ):\n",
    "\n",
    "    q_bank = f\"-{MAX_DAYS_TO_ANNOUNCEMENT} <= n_days_{which_bank}\"\n",
    "    q_years = f\"'{years[0]}' <= date_announcement_{which_bank} <= '{years[1]}'\"\n",
    "\n",
    "    _, ax = plt.subplots()\n",
    "    sns.barplot(\n",
    "        data=data.query(f\"is_scheduled_{which_bank}\")\\\n",
    "                 .query(q_bank)\\\n",
    "                 .query(q_years),\n",
    "        x=f\"n_days_{which_bank}\", \n",
    "        y=\"fx_return\", \n",
    "        errorbar=None,\n",
    "        ax=ax\n",
    "    )\n",
    "    # align fomc that do no have 0-day\n",
    "    ax.set_xlim((-0.5, -0.5+MAX_DAYS_TO_ANNOUNCEMENT+1))\n",
    "    ax.set_xlabel(\"days to meeting\")\n",
    "    ax.set_ylabel(\"spot return\")\n",
    "    ax.grid(axis=\"x\")\n",
    "    plt.plot()"
   ]
  },
  {
   "cell_type": "markdown",
   "metadata": {},
   "source": [
    "Now, let's redo figure 1 with a breakdown into rate cuts, hikes and no-changes."
   ]
  },
  {
   "cell_type": "code",
   "execution_count": 24,
   "metadata": {},
   "outputs": [
    {
     "data": {
      "application/vnd.jupyter.widget-view+json": {
       "model_id": "46c5baf6ea8a46e8bd333df2f1ec0e46",
       "version_major": 2,
       "version_minor": 0
      },
      "text/plain": [
       "interactive(children=(Dropdown(description='which_bank', options=('own', 'fomc'), value='own'), IntRangeSlider…"
      ]
     },
     "metadata": {},
     "output_type": "display_data"
    }
   ],
   "source": [
    "@interact\n",
    "def plot_pre_announcement_spot_returns_by_decision(\n",
    "        which_bank=[\"own\", \"fomc\"],\n",
    "        years=widgets.IntRangeSlider(\n",
    "            value=[2000, 2023],\n",
    "            min=2000,\n",
    "            max=2023,\n",
    "            step=1,\n",
    "            description='years',\n",
    "            continuous_update=False\n",
    "        )\n",
    "    ):\n",
    "    q_bank = f\"-{MAX_DAYS_TO_ANNOUNCEMENT} <= n_days_{which_bank}\"\n",
    "    q_years = f\"'{years[0]}' <= date_announcement_{which_bank} <= '{years[1]}'\"\n",
    "\n",
    "    _, ax = plt.subplots()\n",
    "    sns.barplot(\n",
    "        data=data.query(f\"is_scheduled_{which_bank}\")\n",
    "                 .query(q_bank)\\\n",
    "                 .query(q_years),\n",
    "        x=f\"n_days_{which_bank}\", \n",
    "        errorbar=None,\n",
    "        y=\"fx_return\",\n",
    "        ax=ax,\n",
    "        hue=f\"direction_{which_bank}\", \n",
    "        hue_order=[\"cut\", \"hike\", \"no_change\"]\n",
    "    )\n",
    "    # align fomc that do no have 0-day\n",
    "    ax.set_xlim((-0.5, -0.5+MAX_DAYS_TO_ANNOUNCEMENT+1))\n",
    "    ax.set_xlabel(\"days to meeting\")\n",
    "    ax.set_ylabel(\"spot return\")\n",
    "    ax.grid(axis=\"x\")"
   ]
  }
 ],
 "metadata": {
  "kernelspec": {
   "display_name": "foresight-saga",
   "language": "python",
   "name": "python3"
  },
  "language_info": {
   "codemirror_mode": {
    "name": "ipython",
    "version": 3
   },
   "file_extension": ".py",
   "mimetype": "text/x-python",
   "name": "python",
   "nbconvert_exporter": "python",
   "pygments_lexer": "ipython3",
   "version": "3.10.13"
  }
 },
 "nbformat": 4,
 "nbformat_minor": 2
}
